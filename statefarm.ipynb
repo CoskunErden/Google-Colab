{
  "nbformat": 4,
  "nbformat_minor": 0,
  "metadata": {
    "colab": {
      "provenance": [],
      "toc_visible": true,
      "mount_file_id": "1U9H6FzS08YMdnAj6-pXxNTQKo8u2AR9k",
      "authorship_tag": "ABX9TyNyUABVfkjOO1FSKee1/S3q",
      "include_colab_link": true
    },
    "kernelspec": {
      "name": "python3",
      "display_name": "Python 3"
    },
    "language_info": {
      "name": "python"
    }
  },
  "cells": [
    {
      "cell_type": "markdown",
      "metadata": {
        "id": "view-in-github",
        "colab_type": "text"
      },
      "source": [
        "<a href=\"https://colab.research.google.com/github/CoskunErden/CoskunErden/blob/main/statefarm.ipynb\" target=\"_parent\"><img src=\"https://colab.research.google.com/assets/colab-badge.svg\" alt=\"Open In Colab\"/></a>"
      ]
    },
    {
      "cell_type": "code",
      "execution_count": null,
      "metadata": {
        "id": "WncnJgEic4Nv"
      },
      "outputs": [],
      "source": [
        "import pandas as pd\n",
        "import numpy as np\n",
        "import matplotlib.pyplot as plt \n",
        "import seaborn as sns\n",
        "from scipy import stats"
      ]
    },
    {
      "cell_type": "code",
      "source": [
        "## import training data\n",
        "\n",
        "exercise = pd.read_csv('/content/drive/MyDrive/Statefarm/exercise_40_train.csv')\n",
        "exercise.shape\n"
      ],
      "metadata": {
        "id": "Mf8TLdLBwOuN",
        "colab": {
          "base_uri": "https://localhost:8080/"
        },
        "outputId": "0b1c3551-158c-4c1c-b89c-243c34b6b97f"
      },
      "execution_count": null,
      "outputs": [
        {
          "output_type": "execute_result",
          "data": {
            "text/plain": [
              "(40000, 101)"
            ]
          },
          "metadata": {},
          "execution_count": 288
        }
      ]
    },
    {
      "cell_type": "code",
      "source": [
        "## first glimpse at data\n",
        "\n",
        "pd.set_option('display.max_columns', None)\n",
        "exercise.head()"
      ],
      "metadata": {
        "id": "11dxgdFge9HU"
      },
      "execution_count": null,
      "outputs": []
    },
    {
      "cell_type": "markdown",
      "source": [
        "Look into columns:\n",
        "x3: categorical, days of the week; \n",
        "x7: remove percentage sign, numerical; \n",
        "x19: remove $ and - , numerical; \n",
        "x24: categorical, sex; \n",
        "x30: too many missing values; \n",
        "x31: binary, yes, no; \n",
        "x33: categorical, states; \n",
        "x39: categorical, 5-10 miles, etc.; \n",
        "x59: numerical, only 0 (might be binary); \n",
        "x60: categorical, months; \n",
        "x65: categorical, company;\n",
        "x77: categorical, make of car;\n",
        "x93: binary, yes and no;\n",
        "x98: binary, 1 and 0;\n",
        "x99: binary, yes and no\n",
        "\n",
        "\n"
      ],
      "metadata": {
        "id": "Z1QoSSrNoyuV"
      }
    },
    {
      "cell_type": "code",
      "source": [
        "## import test data\n",
        "\n",
        "df_test = pd.read_csv('/content/drive/MyDrive/Statefarm/exercise_40_test.csv')\n",
        "df_test.shape"
      ],
      "metadata": {
        "colab": {
          "base_uri": "https://localhost:8080/"
        },
        "id": "V42wTJJjw8P-",
        "outputId": "3ea718cd-eb6e-49fb-852a-a88a42f6c822"
      },
      "execution_count": null,
      "outputs": [
        {
          "output_type": "execute_result",
          "data": {
            "text/plain": [
              "(10000, 100)"
            ]
          },
          "metadata": {},
          "execution_count": 290
        }
      ]
    },
    {
      "cell_type": "code",
      "source": [
        "## first glimpse at test data\n",
        "\n",
        "df_test.head()"
      ],
      "metadata": {
        "id": "S6omXSihxJpp"
      },
      "execution_count": null,
      "outputs": []
    },
    {
      "cell_type": "markdown",
      "source": [
        "The exercise_40_test.csv file does not include the dependent variable y. So, I will work on the exercise_40_train.csv file and split it into train and test sets by using test_size = 0.25 to have 30000 observations in the train set and 10000 observations in the test set."
      ],
      "metadata": {
        "id": "ryt6jfXAxWzC"
      }
    },
    {
      "cell_type": "code",
      "source": [
        "## copying the dataset to a new one\n",
        "\n",
        "df = exercise.copy(deep = True)  "
      ],
      "metadata": {
        "id": "fxnt4a1dyAxc"
      },
      "execution_count": null,
      "outputs": []
    },
    {
      "cell_type": "code",
      "source": [
        "## examining datatypes and missing values\n",
        "\n",
        "print(df.info(verbose = True, show_counts =True))"
      ],
      "metadata": {
        "id": "b0doWoanwdP4"
      },
      "execution_count": null,
      "outputs": []
    },
    {
      "cell_type": "markdown",
      "source": [
        "Look into columns: x3: categorical, days of the week; **x7: remove percentage sign, numerical; x19: remove $ and - , numerical**; x24: categorical, sex; x30: too many missing values; **x31: binary**, yes, no; x33: categorical, states; x39: categorical, 5-10 miles, etc.; x59: numerical, only 0 (might be binary); x60: categorical, months; x65: categorical, company; x77: categorical, make of car; x93: binary, yes and no; x98: binary, 1 and 0; x99: binary, yes and no\n"
      ],
      "metadata": {
        "id": "IW9fpI6Xs0Wp"
      }
    },
    {
      "cell_type": "code",
      "source": [
        "## dropping columns with more than 10000 (%25) missing values\n",
        "\n",
        "# list showing the number of missing values in each column\n",
        "mis_list = list(df.isna().sum())\n",
        "\n",
        "# creating a list of columns with more than 10000 missing values\n",
        "mis_arr = np.array(mis_list)\n",
        "mis_10000_bool = mis_arr >  10000\n",
        "clmns = df.columns\n",
        "mis_10000 = list(clmns[mis_10000_bool])\n",
        "print(mis_10000)\n",
        "\n",
        "\n",
        "df = df.drop(mis_10000, axis =1)\n",
        "print(df.shape)\n"
      ],
      "metadata": {
        "colab": {
          "base_uri": "https://localhost:8080/"
        },
        "id": "XzoV_IwmVPkP",
        "outputId": "cb7d6fd0-4529-4860-efe2-27364ffeaf86"
      },
      "execution_count": null,
      "outputs": [
        {
          "output_type": "stream",
          "name": "stdout",
          "text": [
            "['x16', 'x30', 'x44', 'x49', 'x52', 'x54', 'x55', 'x57', 'x74', 'x78', 'x89', 'x95', 'x99']\n",
            "(40000, 88)\n"
          ]
        }
      ]
    },
    {
      "cell_type": "code",
      "source": [
        "## stripping data \n",
        "\n",
        "# stripping % from x7\n",
        "df['x7'] = (df.loc[:, 'x7']).str.strip('%')\n",
        "\n",
        "# stripping $ and - signs from x19\n",
        "df['x19'] = (df.loc[:, 'x19']).str.strip('$-')\n",
        "\n"
      ],
      "metadata": {
        "id": "1RLcpoKWwyw9"
      },
      "execution_count": null,
      "outputs": []
    },
    {
      "cell_type": "code",
      "source": [
        "## examining the values in categorical columns\n",
        "\n",
        "# function for printing unique values in a list of columns\n",
        "\n",
        "def prnt(columns):\n",
        "  for c in columns:\n",
        "     print(df[c].unique())\n",
        "\n",
        "columns = ['x3', 'x24', 'x31', 'x33', 'x39', 'x59', 'x60', 'x65', 'x93', 'x98']\n",
        "\n",
        "prnt(columns)\n",
        "\n"
      ],
      "metadata": {
        "id": "E6X0vgdjjh84"
      },
      "execution_count": null,
      "outputs": []
    },
    {
      "cell_type": "code",
      "source": [
        "# replacing short versions of days with full versions in x3 (i.e. Mon to Monday)\n",
        "mapping = {'Mon':'Monday', 'Tue':'Tuesday', 'Wed':'Wednesday',\n",
        "'Thur':'Thursday', 'Fri':'Friday', 'Sat':'Saturday', 'Sun':'Sunday'}\n",
        "\n",
        "df['x3'] = df['x3'].replace(mapping)\n",
        "\n",
        "# dropping the column x39 as it contains single value (i.e. no variation)\n",
        "df = df.drop('x39', axis = 1)"
      ],
      "metadata": {
        "id": "c8LSjqpH0KZg"
      },
      "execution_count": null,
      "outputs": []
    },
    {
      "cell_type": "code",
      "source": [
        "## changing datatypes\n",
        "\n",
        "# function changing datatype of a column\n",
        "def change_datatype(column_datatypes):\n",
        "  for c in column_datatypes:\n",
        "      df[c] = df[c].astype(column_datatypes[c])\n",
        "\n",
        "columns_datatypes = {'x3': 'category', 'x7':'float64', 'x19':'float64', \n",
        "                     'x24':'category', 'x31':'category', 'x33':'category',\n",
        "                     'x60':'category', 'x65': 'category', 'x77':'category',\n",
        "                      'x93': 'category', 'x98': 'category'}\n",
        "\n",
        "change_datatype(columns_datatypes)\n",
        "\n"
      ],
      "metadata": {
        "id": "TLAz9Sr6Dthy"
      },
      "execution_count": null,
      "outputs": []
    },
    {
      "cell_type": "code",
      "source": [
        "## Examining numerical columns\n",
        "df_cat_columns = df.select_dtypes(include=['category']).columns\n",
        "df_cat = df[df_cat_columns]\n",
        "\n",
        "df_num = df.iloc[:,1:].drop(df_cat_columns, axis = 1)\n",
        "\n",
        "df_num.describe()\n"
      ],
      "metadata": {
        "id": "tWcAJATD_Jvh"
      },
      "execution_count": null,
      "outputs": []
    },
    {
      "cell_type": "code",
      "source": [
        "# correlation among features\n",
        "srt = (df_num.corr().to_numpy())\n",
        "corr_coef = sorted(set(srt.flatten()))\n",
        "corr_coef.remove(1)\n",
        "print(min(corr_coef), max(corr_coef))\n",
        "#print(set(srt.flatten))\n",
        "#print(srt.item(0))"
      ],
      "metadata": {
        "colab": {
          "base_uri": "https://localhost:8080/"
        },
        "id": "grYipCv-JZVC",
        "outputId": "42377924-4bb7-4b37-c1e5-e7e7efff753e"
      },
      "execution_count": null,
      "outputs": [
        {
          "output_type": "stream",
          "name": "stdout",
          "text": [
            "-0.7555635247765241 0.6864962475686026\n"
          ]
        }
      ]
    },
    {
      "cell_type": "code",
      "source": [
        "# forming the features and the labels\n",
        "X = df.iloc[:, 1:]\n",
        "y = df.iloc[:, 0]"
      ],
      "metadata": {
        "id": "AUAe7BdsVZuK"
      },
      "execution_count": null,
      "outputs": []
    },
    {
      "cell_type": "code",
      "source": [
        "# checking whether the data is balanced or not\n",
        "y.value_counts()"
      ],
      "metadata": {
        "id": "VlF69Jpq3hTl"
      },
      "execution_count": null,
      "outputs": []
    },
    {
      "cell_type": "markdown",
      "source": [
        "Imbalanced  data. "
      ],
      "metadata": {
        "id": "JKW6wZfV8uPA"
      }
    },
    {
      "cell_type": "code",
      "source": [
        "## splitting features dataset into two (categorical and numerical) according to datatypes\n",
        "cat_columns = X.select_dtypes(include=['category']).columns\n",
        "X_cat = X.loc[:,cat_columns]\n",
        "\n",
        "X_num = X.drop(cat_columns, axis =1)\n",
        "num_columns = X_num.columns\n"
      ],
      "metadata": {
        "id": "q0e38zSTRBsz"
      },
      "execution_count": null,
      "outputs": []
    },
    {
      "cell_type": "code",
      "source": [
        "from sklearn.model_selection import train_test_split"
      ],
      "metadata": {
        "id": "FKgQn2mVUfoQ"
      },
      "execution_count": null,
      "outputs": []
    },
    {
      "cell_type": "code",
      "source": [
        "#splitting data by using starified sampling\n",
        "X_train_cat, X_test_cat, y_train, y_test = train_test_split(X_cat, y, stratify = y, random_state =123)\n",
        "X_train_num, X_test_num, y_train, y_test = train_test_split(X_num, y, stratify = y, random_state =123)"
      ],
      "metadata": {
        "id": "WmP6CuTb8nAq"
      },
      "execution_count": null,
      "outputs": []
    },
    {
      "cell_type": "code",
      "source": [
        "from sklearn.impute import SimpleImputer"
      ],
      "metadata": {
        "id": "9Kb9mGgqVIod"
      },
      "execution_count": null,
      "outputs": []
    },
    {
      "cell_type": "code",
      "source": [
        "## Imputation\n",
        "\n",
        "# imputing categorical variables with the most frquent one (although not a good strategy without content knowledge)\n",
        "imp_cat = SimpleImputer(strategy = \"most_frequent\")\n",
        "X_train_cat_imp = imp_cat.fit_transform(X_train_cat)\n",
        "X_train_cat = pd.DataFrame(X_train_cat_imp, columns = cat_columns)\n",
        "\n",
        "X_test_cat_imp = imp_cat.transform(X_test_cat)\n",
        "X_test_cat =  pd.DataFrame(X_test_cat_imp, columns = cat_columns)\n",
        "\n",
        "\n",
        "# imputing numerical variables with the mean\n",
        "imp_num = SimpleImputer()\n",
        "X_train_num = pd.DataFrame(imp_num.fit_transform(X_train_num), columns = num_columns)\n",
        "X_test_num = pd.DataFrame(imp_num.fit_transform(X_test_num), columns = num_columns)\n"
      ],
      "metadata": {
        "id": "WGn8VKasbFO1"
      },
      "execution_count": null,
      "outputs": []
    },
    {
      "cell_type": "code",
      "source": [
        "from sklearn.feature_extraction import DictVectorizer"
      ],
      "metadata": {
        "id": "P6p1bzwruVtd"
      },
      "execution_count": null,
      "outputs": []
    },
    {
      "cell_type": "code",
      "source": [
        "## OneHotEncode and LabelEncoder at once\n",
        "\n",
        "# create function to perform both OneHotEncoder and LabelEncoder\n",
        "def dictvectorizer(dataframe):\n",
        "  dataframe_dict = dataframe.to_dict(\"records\")\n",
        "  # Create the DictVectorizer object: dv\n",
        "  dv = DictVectorizer(sparse = False)\n",
        "  # Apply dv on df: df_encoded\n",
        "  dataframe_encoded = dv.fit_transform(dataframe_dict)\n",
        "  return dataframe_encoded\n",
        "\n",
        "X_train_cat_encoded = pd.DataFrame(dictvectorizer(X_train_cat))\n",
        "\n",
        "X_test_cat_encoded = pd.DataFrame(dictvectorizer(X_test_cat))"
      ],
      "metadata": {
        "id": "lTwY6Sh1tv-z"
      },
      "execution_count": null,
      "outputs": []
    },
    {
      "cell_type": "code",
      "source": [
        "from sklearn.preprocessing import StandardScaler"
      ],
      "metadata": {
        "id": "fAJOL06gg4gY"
      },
      "execution_count": null,
      "outputs": []
    },
    {
      "cell_type": "code",
      "source": [
        "#Scaling the numerical data \n",
        "scaler = StandardScaler()\n",
        "X_train_num = pd.DataFrame(X_train_num)\n",
        "X_train_num = pd.DataFrame(scaler.fit_transform(X_train_num), columns = num_columns)\n",
        "\n",
        "\n",
        "X_test_num = pd.DataFrame(X_test_num)\n",
        "X_test_num = pd.DataFrame(scaler.fit_transform(X_test_num), columns = num_columns)\n"
      ],
      "metadata": {
        "id": "wcOhT3y5hbou"
      },
      "execution_count": null,
      "outputs": []
    },
    {
      "cell_type": "code",
      "source": [
        "# Principal Component Analysis (PCA)\n",
        "from sklearn.decomposition import PCA"
      ],
      "metadata": {
        "id": "CYyZcKmb36bM"
      },
      "execution_count": null,
      "outputs": []
    },
    {
      "cell_type": "code",
      "source": [
        "#PCA with 90% \n",
        "\n",
        "pca = PCA(n_components = 0.90)\n",
        "X_train_num = pca.fit_transform(X_train_num)\n",
        "X_test_num = pca.fit_transform(X_test_num)\n",
        "print(pca.explained_variance_ratio_.cumsum())\n"
      ],
      "metadata": {
        "id": "9ogDn9QT4M6M"
      },
      "execution_count": null,
      "outputs": []
    },
    {
      "cell_type": "code",
      "source": [
        "# concatenate numeric and categorical columns\n",
        "X_train = np.append(X_train_num, X_train_cat_encoded, axis=1)\n",
        "X_test = np.append(X_test_num, X_test_cat_encoded, axis=1)"
      ],
      "metadata": {
        "id": "gx088mCkmsqg"
      },
      "execution_count": null,
      "outputs": []
    },
    {
      "cell_type": "code",
      "source": [
        "from sklearn.linear_model import LogisticRegression \n",
        "from sklearn.metrics import confusion_matrix, accuracy_score, classification_report, roc_curve, roc_auc_score\n",
        "from sklearn.model_selection import cross_val_score, GridSearchCV\n"
      ],
      "metadata": {
        "id": "kAfj7a1c12on"
      },
      "execution_count": null,
      "outputs": []
    },
    {
      "cell_type": "code",
      "source": [
        "## Examining various regularization strength\n",
        "\n",
        "lr = LogisticRegression(solver='liblinear', penalty = 'l1', class_weight = 'balanced')\n",
        "\n",
        "# GridSearchCV \n",
        "searcher = GridSearchCV(lr, {'C':[0.001, 0.01, 0.1, 1, 10, 100,1000]})\n",
        "searcher.fit(X_train, y_train)\n",
        "\n",
        "# Report the best parameters\n",
        "print(\"Best CV params\", searcher.best_params_)"
      ],
      "metadata": {
        "colab": {
          "base_uri": "https://localhost:8080/"
        },
        "id": "CtB3FHJSbrbH",
        "outputId": "7fe2adb1-1366-4df3-9eb4-c81b69199e88"
      },
      "execution_count": null,
      "outputs": [
        {
          "output_type": "stream",
          "name": "stdout",
          "text": [
            "Best CV params {'C': 100}\n"
          ]
        }
      ]
    },
    {
      "cell_type": "code",
      "source": [
        "#Logistic regression\n",
        "logreg = LogisticRegression(solver='liblinear', penalty='l1', class_weight = 'balanced', C = 100, max_iter = 200)\n",
        "logreg.fit(X_train, y_train)\n",
        "y_pred = logreg.predict(X_test)\n",
        "y_pred_probs = logreg.predict_proba(X_test)[:,1] \n",
        "\n",
        "\n",
        "#confusion matrix\n",
        "print(confusion_matrix(y_test, y_pred))\n",
        "print(classification_report(y_test, y_pred))\n",
        "\n",
        "# plot the ROC curve\n",
        "fpr, tpr, thresholds = roc_curve(y_test, y_pred_probs)\n",
        "plt.plot([0,1], [0,1], 'k--')\n",
        "plt.plot(fpr, tpr)\n",
        "plt.xlabel('False Positive Rate')\n",
        "plt.ylabel('True Positive Rate')\n",
        "plt.title('Logistic Regression ROC Curve')\n",
        "plt.show()\n",
        "\n",
        "# roc_auc_score\n",
        "print('auc_score is:', roc_auc_score(y_test, y_pred_probs))\n",
        "\n",
        "\n",
        "# obtaining class probabilities for belonging to the positive class\n",
        "logreg_probs = pd.DataFrame({ \"probabilities\":list(y_pred_probs)})\n",
        "logreg_probs.to_csv(\"glmresults.csv\",  index=False)\n"
      ],
      "metadata": {
        "id": "6kr0P2d-FHKp",
        "colab": {
          "base_uri": "https://localhost:8080/",
          "height": 515
        },
        "outputId": "2bed7514-c372-4d07-dfbf-b8600b057fbd"
      },
      "execution_count": null,
      "outputs": [
        {
          "output_type": "stream",
          "name": "stdout",
          "text": [
            "[[5413 3136]\n",
            " [ 848  603]]\n",
            "              precision    recall  f1-score   support\n",
            "\n",
            "           0       0.86      0.63      0.73      8549\n",
            "           1       0.16      0.42      0.23      1451\n",
            "\n",
            "    accuracy                           0.60     10000\n",
            "   macro avg       0.51      0.52      0.48     10000\n",
            "weighted avg       0.76      0.60      0.66     10000\n",
            "\n"
          ]
        },
        {
          "output_type": "display_data",
          "data": {
            "text/plain": [
              "<Figure size 432x288 with 1 Axes>"
            ],
            "image/png": "[encoded data removed]"
          },
          "metadata": {
            "needs_background": "light"
          }
        },
        {
          "output_type": "stream",
          "name": "stdout",
          "text": [
            "auc_score is: 0.5457903153499764\n"
          ]
        }
      ]
    },
    {
      "cell_type": "code",
      "source": [
        "from xgboost import XGBClassifier\n",
        "from sklearn.model_selection import cross_val_score"
      ],
      "metadata": {
        "id": "fiEpgmRw5tA5"
      },
      "execution_count": null,
      "outputs": []
    },
    {
      "cell_type": "code",
      "source": [
        " # Gradient Boosting machine\n",
        "\n",
        "# Training XGBoost on the Training set\n",
        "xg_cl = XGBClassifier(scale_pos_weight = 'ratio', objective='binary:logistic',\n",
        "eval_metric = 'auc',n_estimators=100, seed=123)\n",
        "classifier = XGBClassifier()\n",
        "classifier.fit(X_train, y_train)\n",
        "\n",
        "# Confusion Matrix\n",
        "y_pred = classifier.predict(X_test)\n",
        "print(confusion_matrix(y_test, y_pred))\n",
        "print(classification_report(y_test, y_pred))\n",
        "\n",
        "# plot the ROC curve\n",
        "fpr, tpr, thresholds = roc_curve(y_test, y_pred_probs)\n",
        "plt.plot([0,1], [0,1], 'k--')\n",
        "plt.plot(fpr, tpr)\n",
        "plt.xlabel('False Positive Rate')\n",
        "plt.ylabel('True Positive Rate')\n",
        "plt.title('Gradient boosting ROC Curve')\n",
        "plt.show()\n",
        "\n",
        "\n",
        "# obtaining class probabilities for belonging to the positive class\n",
        "y_pred_probs = classifier.predict_proba(X_test)[:,1]\n",
        "xgboost_probs = pd.DataFrame({\"probabilities\":list(y_pred_probs)})\n",
        "xgboost_probs.to_csv(\"nonglmresults.csv\", index=False)\n",
        "\n",
        "# roc_auc_score\n",
        "print('auc_score is:', roc_auc_score(y_test, y_pred_probs))\n"
      ],
      "metadata": {
        "colab": {
          "base_uri": "https://localhost:8080/",
          "height": 515
        },
        "id": "l3c9GvX6RQUY",
        "outputId": "cb685d78-f97a-4679-8f49-5f84e366ae3c"
      },
      "execution_count": null,
      "outputs": [
        {
          "output_type": "stream",
          "name": "stdout",
          "text": [
            "[[8543    6]\n",
            " [1450    1]]\n",
            "              precision    recall  f1-score   support\n",
            "\n",
            "           0       0.85      1.00      0.92      8549\n",
            "           1       0.14      0.00      0.00      1451\n",
            "\n",
            "    accuracy                           0.85     10000\n",
            "   macro avg       0.50      0.50      0.46     10000\n",
            "weighted avg       0.75      0.85      0.79     10000\n",
            "\n"
          ]
        },
        {
          "output_type": "display_data",
          "data": {
            "text/plain": [
              "<Figure size 432x288 with 1 Axes>"
            ],
            "image/png": "[encoded data removed]"
          },
          "metadata": {
            "needs_background": "light"
          }
        },
        {
          "output_type": "stream",
          "name": "stdout",
          "text": [
            "auc_score is: 0.5191474952152826\n"
          ]
        }
      ]
    }
  ]
}